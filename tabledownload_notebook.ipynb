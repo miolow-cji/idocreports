{
 "cells": [
  {
   "cell_type": "code",
   "execution_count": 1,
   "metadata": {},
   "outputs": [],
   "source": [
    "import camelot\n",
    "import cv2\n",
    "from PyPDF2 import PdfReader\n",
    "import pandas as pd"
   ]
  },
  {
   "cell_type": "markdown",
   "metadata": {},
   "source": [
    "# For idoc-quarterly-report-april-2024"
   ]
  },
  {
   "cell_type": "code",
   "execution_count": null,
   "metadata": {},
   "outputs": [],
   "source": [
    "def extract_tables_to_excel(doc_name, pages_to_extract, output_filename=\"tables_output.xlsx\", base_path=\"C:/Users/michelle.iolow/OneDrive - crj.org/Desktop/pdfdownloads\"):\n",
    "    \"\"\"\n",
    "    Extract tables from PDF and save them to Excel.\n",
    "    \n",
    "    Parameters:\n",
    "    doc_name (str): Name of the PDF file without extension\n",
    "    pages_to_extract (str): Comma-separated pages to extract (e.g., \"1,2,3\")\n",
    "    output_filename (str): Name of the output Excel file\n",
    "    base_path (str): Base directory path where PDF is located\n",
    "    \"\"\"\n",
    "    try:\n",
    "        # Construct full PDF path\n",
    "        pdf_path = f\"{base_path}/{doc_name}.pdf\"\n",
    "        \n",
    "        # Extract tables from PDF\n",
    "        tables = camelot.read_pdf(\n",
    "            pdf_path,\n",
    "            pages = pages_to_extract,\n",
    "            flavor = 'stream'\n",
    "        )\n",
    "        \n",
    "        # Save to Excel\n",
    "        with pd.ExcelWriter(output_filename) as writer:\n",
    "            for i, table in enumerate(tables):\n",
    "                df = table.df\n",
    "                sheet_name = f\"Page_{table.parsing_report['page']}_Table_{i}\"\n",
    "                df.to_excel(writer, sheet_name=sheet_name, index = False)\n",
    "                \n",
    "        print(f\"Successfully exported {len(tables)} tables to {output_filename}\")\n",
    "        \n",
    "    except Exception as e:\n",
    "        print(f\"Error occurred: {str(e)}\")\n"
   ]
  },
  {
   "cell_type": "code",
   "execution_count": null,
   "metadata": {},
   "outputs": [
    {
     "name": "stdout",
     "output_type": "stream",
     "text": [
      "Successfully exported 11 tables to Qreport_Apr2024.xlsx\n"
     ]
    }
   ],
   "source": [
    "extract_tables_to_excel(\n",
    "    doc_name=\"idoc-quarterly-report-april-2024\",\n",
    "    pages_to_extract=\"46, 47, 48, 49, 51, 53, 54, 55, 59, 60, 61\",\n",
    "    output_filename=\"Qreport_Apr2024.xlsx\"\n",
    ")"
   ]
  },
  {
   "cell_type": "markdown",
   "metadata": {},
   "source": [
    "# For idoc-quarterly-report-january-2024"
   ]
  },
  {
   "cell_type": "code",
   "execution_count": 6,
   "metadata": {},
   "outputs": [
    {
     "name": "stdout",
     "output_type": "stream",
     "text": [
      "Successfully exported 11 tables to Qreport_Jan2024.xlsx\n"
     ]
    }
   ],
   "source": [
    "extract_tables_to_excel(\n",
    "    doc_name=\"idoc-quarterly-report-january-2024\",\n",
    "    pages_to_extract=\"46, 47, 48, 49, 51, 53, 54, 55, 59, 60, 61\",\n",
    "    output_filename=\"Qreport_Jan2024.xlsx\"\n",
    ")"
   ]
  },
  {
   "cell_type": "markdown",
   "metadata": {},
   "source": [
    "# For idoc-quarterly-report-january-2025"
   ]
  },
  {
   "cell_type": "code",
   "execution_count": 7,
   "metadata": {},
   "outputs": [
    {
     "name": "stdout",
     "output_type": "stream",
     "text": [
      "Successfully exported 11 tables to Qreport_Jan2025.xlsx\n"
     ]
    }
   ],
   "source": [
    "extract_tables_to_excel(\n",
    "    doc_name=\"idoc-quarterly-report-january-2025\",\n",
    "    pages_to_extract=\"46, 47, 48, 49, 51, 53, 54, 55, 59, 60, 61\",\n",
    "    output_filename=\"Qreport_Jan2025.xlsx\"\n",
    ")"
   ]
  },
  {
   "cell_type": "markdown",
   "metadata": {},
   "source": [
    "# For idoc-quarterly-report-july-2023"
   ]
  },
  {
   "cell_type": "code",
   "execution_count": 8,
   "metadata": {},
   "outputs": [
    {
     "name": "stdout",
     "output_type": "stream",
     "text": [
      "Successfully exported 11 tables to Qreport_Jul2023.xlsx\n"
     ]
    }
   ],
   "source": [
    "extract_tables_to_excel(\n",
    "    doc_name=\"idoc-quarterly-report-july-2023\",\n",
    "    pages_to_extract=\"46, 47, 48, 49, 51, 53, 54, 55, 59, 60, 61\",\n",
    "    output_filename=\"Qreport_Jul2023.xlsx\"\n",
    ")"
   ]
  },
  {
   "cell_type": "markdown",
   "metadata": {},
   "source": [
    "# For idoc-quarterly-report-july-2024"
   ]
  },
  {
   "cell_type": "code",
   "execution_count": 9,
   "metadata": {},
   "outputs": [
    {
     "name": "stdout",
     "output_type": "stream",
     "text": [
      "Successfully exported 10 tables to Qreport_Jul2024.xlsx\n"
     ]
    }
   ],
   "source": [
    "extract_tables_to_excel(\n",
    "    doc_name=\"idoc-quarterly-report-july-2024\",\n",
    "    pages_to_extract=\"46, 47, 48, 49, 53, 54, 55, 59, 60, 61\",\n",
    "    output_filename=\"Qreport_Jul2024.xlsx\"\n",
    ")"
   ]
  },
  {
   "cell_type": "markdown",
   "metadata": {},
   "source": [
    "# For idoc-quarterly-report-october-2023"
   ]
  },
  {
   "cell_type": "code",
   "execution_count": 10,
   "metadata": {},
   "outputs": [
    {
     "name": "stdout",
     "output_type": "stream",
     "text": [
      "Successfully exported 10 tables to Qreport_Oct2023.xlsx\n"
     ]
    }
   ],
   "source": [
    "extract_tables_to_excel(\n",
    "    doc_name=\"idoc-quarterly-report-october-2023\",\n",
    "    pages_to_extract=\"46, 47, 48, 49, 53, 54, 55, 59, 60, 61\",\n",
    "    output_filename=\"Qreport_Oct2023.xlsx\"\n",
    ")"
   ]
  },
  {
   "cell_type": "markdown",
   "metadata": {},
   "source": [
    "# For idoc-quarterly-report-october-2023"
   ]
  },
  {
   "cell_type": "code",
   "execution_count": 11,
   "metadata": {},
   "outputs": [
    {
     "name": "stdout",
     "output_type": "stream",
     "text": [
      "Successfully exported 10 tables to Qreport_Oct2024.xlsx\n"
     ]
    }
   ],
   "source": [
    "extract_tables_to_excel(\n",
    "    doc_name=\"idoc-quarterly-report-october-2024\",\n",
    "    pages_to_extract=\"50, 51, 52, 53, 57, 58, 59, 63, 64, 65\",\n",
    "    output_filename=\"Qreport_Oct2024.xlsx\"\n",
    ")"
   ]
  }
 ],
 "metadata": {
  "kernelspec": {
   "display_name": "Python 3",
   "language": "python",
   "name": "python3"
  },
  "language_info": {
   "codemirror_mode": {
    "name": "ipython",
    "version": 3
   },
   "file_extension": ".py",
   "mimetype": "text/x-python",
   "name": "python",
   "nbconvert_exporter": "python",
   "pygments_lexer": "ipython3",
   "version": "3.12.6"
  }
 },
 "nbformat": 4,
 "nbformat_minor": 2
}
